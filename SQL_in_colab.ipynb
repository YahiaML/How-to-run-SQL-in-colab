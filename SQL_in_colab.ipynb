{
  "nbformat": 4,
  "nbformat_minor": 0,
  "metadata": {
    "colab": {
      "name": "SQL in colab.ipynb",
      "provenance": [],
      "authorship_tag": "ABX9TyP/5oTahM2EplaMreueHVAK",
      "include_colab_link": true
    },
    "kernelspec": {
      "name": "python3",
      "display_name": "Python 3"
    },
    "language_info": {
      "name": "python"
    }
  },
  "cells": [
    {
      "cell_type": "markdown",
      "metadata": {
        "id": "view-in-github",
        "colab_type": "text"
      },
      "source": [
        "<a href=\"https://colab.research.google.com/github/YahiaML/SQL-in-python/blob/main/SQL_in_colab.ipynb\" target=\"_parent\"><img src=\"https://colab.research.google.com/assets/colab-badge.svg\" alt=\"Open In Colab\"/></a>"
      ]
    },
    {
      "cell_type": "code",
      "source": [
        "import sqlite3\n"
      ],
      "metadata": {
        "id": "HlNo1aoNlX6Y"
      },
      "execution_count": 9,
      "outputs": []
    },
    {
      "cell_type": "code",
      "source": [
        "db = sqlite3.connect('/content/chinook.db')"
      ],
      "metadata": {
        "id": "8Bb5HvOfmHHQ"
      },
      "execution_count": 10,
      "outputs": []
    },
    {
      "cell_type": "code",
      "source": [
        "sql_execution = db.execute('''\n",
        "                              SELECT DISTINCT c.Email, c.FirstName, c.LastName, g.Name\n",
        "                              FROM Genre g\n",
        "                              JOIN Track t\n",
        "                              ON g.GenreId = t.GenreId\n",
        "                              JOIN InvoiceLine il\n",
        "                              ON t.TrackId = il.TrackId\n",
        "                              JOIN Invoice i\n",
        "                              ON il.InvoiceId = i.InvoiceId\n",
        "                              JOIN Customer c\n",
        "                              ON c.CustomerId = i.CustomerId\n",
        "                              WHERE g.Name = 'Rock'\n",
        "                              ORDER BY 1\n",
        "''')\n",
        "\n",
        "db.commit()"
      ],
      "metadata": {
        "id": "n6X5QxoqmPj-"
      },
      "execution_count": 11,
      "outputs": []
    },
    {
      "cell_type": "code",
      "source": [
        "for row in sql_execution:\n",
        "  print(row)\n"
      ],
      "metadata": {
        "colab": {
          "base_uri": "https://localhost:8080/"
        },
        "id": "jVGHRLIqm8zV",
        "outputId": "ef0d8a52-c15f-48bd-bf0c-9252eeb7b78e"
      },
      "execution_count": 12,
      "outputs": [
        {
          "output_type": "stream",
          "name": "stdout",
          "text": [
            "('aaronmitchell@yahoo.ca', 'Aaron', 'Mitchell', 'Rock')\n",
            "('alero@uol.com.br', 'Alexandre', 'Rocha', 'Rock')\n",
            "('astrid.gruber@apple.at', 'Astrid', 'Gruber', 'Rock')\n",
            "('bjorn.hansen@yahoo.no', 'Bjørn', 'Hansen', 'Rock')\n",
            "('camille.bernard@yahoo.fr', 'Camille', 'Bernard', 'Rock')\n",
            "('daan_peeters@apple.be', 'Daan', 'Peeters', 'Rock')\n",
            "('diego.gutierrez@yahoo.ar', 'Diego', 'Gutiérrez', 'Rock')\n",
            "('dmiller@comcast.com', 'Dan', 'Miller', 'Rock')\n",
            "('dominiquelefebvre@gmail.com', 'Dominique', 'Lefebvre', 'Rock')\n",
            "('edfrancis@yachoo.ca', 'Edward', 'Francis', 'Rock')\n",
            "('eduardo@woodstock.com.br', 'Eduardo', 'Martins', 'Rock')\n",
            "('ellie.sullivan@shaw.ca', 'Ellie', 'Sullivan', 'Rock')\n",
            "('emma_jones@hotmail.com', 'Emma', 'Jones', 'Rock')\n",
            "('enrique_munoz@yahoo.es', 'Enrique', 'Muñoz', 'Rock')\n",
            "('fernadaramos4@uol.com.br', 'Fernanda', 'Ramos', 'Rock')\n",
            "('fharris@google.com', 'Frank', 'Harris', 'Rock')\n",
            "('fralston@gmail.com', 'Frank', 'Ralston', 'Rock')\n",
            "('frantisekw@jetbrains.com', 'František', 'Wichterlová', 'Rock')\n",
            "('ftremblay@gmail.com', 'François', 'Tremblay', 'Rock')\n",
            "('fzimmermann@yahoo.de', 'Fynn', 'Zimmermann', 'Rock')\n",
            "('hannah.schneider@yahoo.de', 'Hannah', 'Schneider', 'Rock')\n",
            "('hholy@gmail.com', 'Helena', 'Holý', 'Rock')\n",
            "('hleacock@gmail.com', 'Heather', 'Leacock', 'Rock')\n",
            "('hughoreilly@apple.ie', 'Hugh', \"O'Reilly\", 'Rock')\n",
            "('isabelle_mercier@apple.fr', 'Isabelle', 'Mercier', 'Rock')\n",
            "('jacksmith@microsoft.com', 'Jack', 'Smith', 'Rock')\n",
            "('jenniferp@rogers.ca', 'Jennifer', 'Peterson', 'Rock')\n",
            "('jfernandes@yahoo.pt', 'João', 'Fernandes', 'Rock')\n",
            "('joakim.johansson@yahoo.se', 'Joakim', 'Johansson', 'Rock')\n",
            "('johavanderberg@yahoo.nl', 'Johannes', 'Van der Berg', 'Rock')\n",
            "('johngordon22@yahoo.com', 'John', 'Gordon', 'Rock')\n",
            "('jubarnett@gmail.com', 'Julia', 'Barnett', 'Rock')\n",
            "('kachase@hotmail.com', 'Kathy', 'Chase', 'Rock')\n",
            "('kara.nielsen@jubii.dk', 'Kara', 'Nielsen', 'Rock')\n",
            "('ladislav_kovacs@apple.hu', 'Ladislav', 'Kovács', 'Rock')\n",
            "('leonekohler@surfeu.de', 'Leonie', 'Köhler', 'Rock')\n",
            "('lucas.mancini@yahoo.it', 'Lucas', 'Mancini', 'Rock')\n",
            "('luisg@embraer.com.br', 'Luís', 'Gonçalves', 'Rock')\n",
            "('luisrojas@yahoo.cl', 'Luis', 'Rojas', 'Rock')\n",
            "('manoj.pareek@rediff.com', 'Manoj', 'Pareek', 'Rock')\n",
            "('marc.dubois@hotmail.com', 'Marc', 'Dubois', 'Rock')\n",
            "('mark.taylor@yahoo.au', 'Mark', 'Taylor', 'Rock')\n",
            "('marthasilk@gmail.com', 'Martha', 'Silk', 'Rock')\n",
            "('masampaio@sapo.pt', 'Madalena', 'Sampaio', 'Rock')\n",
            "('michelleb@aol.com', 'Michelle', 'Brooks', 'Rock')\n",
            "('mphilips12@shaw.ca', 'Mark', 'Philips', 'Rock')\n",
            "('nschroder@surfeu.de', 'Niklas', 'Schröder', 'Rock')\n",
            "('patrick.gray@aol.com', 'Patrick', 'Gray', 'Rock')\n",
            "('phil.hughes@gmail.com', 'Phil', 'Hughes', 'Rock')\n",
            "('puja_srivastava@yahoo.in', 'Puja', 'Srivastava', 'Rock')\n",
            "('ricunningham@hotmail.com', 'Richard', 'Cunningham', 'Rock')\n",
            "('robbrown@shaw.ca', 'Robert', 'Brown', 'Rock')\n",
            "('roberto.almeida@riotur.gov.br', 'Roberto', 'Almeida', 'Rock')\n",
            "('stanisław.wójcik@wp.pl', 'Stanisław', 'Wójcik', 'Rock')\n",
            "('steve.murray@yahoo.uk', 'Steve', 'Murray', 'Rock')\n",
            "('terhi.hamalainen@apple.fi', 'Terhi', 'Hämäläinen', 'Rock')\n",
            "('tgoyer@apple.com', 'Tim', 'Goyer', 'Rock')\n",
            "('vstevens@yahoo.com', 'Victor', 'Stevens', 'Rock')\n",
            "('wyatt.girard@yahoo.fr', 'Wyatt', 'Girard', 'Rock')\n"
          ]
        }
      ]
    }
  ]
}